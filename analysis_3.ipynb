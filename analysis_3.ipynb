{
 "cells": [
  {
   "attachments": {},
   "cell_type": "markdown",
   "metadata": {},
   "source": [
    "# Final analysis"
   ]
  },
  {
   "attachments": {},
   "cell_type": "markdown",
   "metadata": {},
   "source": [
    "### Importing libraries"
   ]
  },
  {
   "cell_type": "code",
   "execution_count": 2,
   "metadata": {},
   "outputs": [
    {
     "name": "stderr",
     "output_type": "stream",
     "text": [
      "2023-01-16 18:45:08.558614: I tensorflow/core/platform/cpu_feature_guard.cc:193] This TensorFlow binary is optimized with oneAPI Deep Neural Network Library (oneDNN) to use the following CPU instructions in performance-critical operations:  AVX2 FMA\n",
      "To enable them in other operations, rebuild TensorFlow with the appropriate compiler flags.\n"
     ]
    }
   ],
   "source": [
    "import pandas as pd\n",
    "import tensorflow as tf\n",
    "import numpy as np\n",
    "from scipy import spatial\n",
    "from sklearn.metrics import r2_score\n",
    "from sklearn.metrics import mean_squared_error\n",
    "from sklearn.linear_model import Lasso\n",
    "from sklearn.model_selection import train_test_split\n",
    "from sklearn.preprocessing import Normalizer\n",
    "from sklearn.ensemble import GradientBoostingRegressor\n",
    "from tensorflow.keras.optimizers import RMSprop, Adam\n",
    "from keras import Sequential\n",
    "from keras.layers import Dense, Dropout\n",
    "from keras.callbacks import EarlyStopping, ModelCheckpoint, ReduceLROnPlateau\n",
    "\n",
    "import warnings\n",
    "warnings.filterwarnings('ignore') # ignore warnings"
   ]
  },
  {
   "attachments": {},
   "cell_type": "markdown",
   "metadata": {},
   "source": [
    "Load the cleaned data."
   ]
  },
  {
   "cell_type": "code",
   "execution_count": 3,
   "metadata": {},
   "outputs": [],
   "source": [
    "df = pd.read_csv('df_cleaned.csv')"
   ]
  },
  {
   "attachments": {},
   "cell_type": "markdown",
   "metadata": {},
   "source": [
    "## Correlations\n",
    "We expect altitude and distance to be highly correlated with the moving time as these two features are used in most estimation formulas in use."
   ]
  },
  {
   "cell_type": "code",
   "execution_count": 4,
   "metadata": {},
   "outputs": [
    {
     "data": {
      "text/html": [
       "<div>\n",
       "<style scoped>\n",
       "    .dataframe tbody tr th:only-of-type {\n",
       "        vertical-align: middle;\n",
       "    }\n",
       "\n",
       "    .dataframe tbody tr th {\n",
       "        vertical-align: top;\n",
       "    }\n",
       "\n",
       "    .dataframe thead th {\n",
       "        text-align: right;\n",
       "    }\n",
       "</style>\n",
       "<table border=\"1\" class=\"dataframe\">\n",
       "  <thead>\n",
       "    <tr style=\"text-align: right;\">\n",
       "      <th></th>\n",
       "      <th>length_3d</th>\n",
       "      <th>max_elevation</th>\n",
       "      <th>uphill</th>\n",
       "      <th>moving_time</th>\n",
       "      <th>max_speed</th>\n",
       "      <th>min_elevation</th>\n",
       "      <th>downhill</th>\n",
       "      <th>length_2d</th>\n",
       "      <th>avg_speed</th>\n",
       "      <th>difficulty_num</th>\n",
       "    </tr>\n",
       "  </thead>\n",
       "  <tbody>\n",
       "    <tr>\n",
       "      <th>length_3d</th>\n",
       "      <td>1.000000</td>\n",
       "      <td>0.162568</td>\n",
       "      <td>0.264588</td>\n",
       "      <td>0.852642</td>\n",
       "      <td>0.075354</td>\n",
       "      <td>-0.109997</td>\n",
       "      <td>0.273401</td>\n",
       "      <td>1.000000</td>\n",
       "      <td>0.130308</td>\n",
       "      <td>0.086269</td>\n",
       "    </tr>\n",
       "    <tr>\n",
       "      <th>max_elevation</th>\n",
       "      <td>0.162568</td>\n",
       "      <td>1.000000</td>\n",
       "      <td>0.320926</td>\n",
       "      <td>0.361493</td>\n",
       "      <td>-0.076644</td>\n",
       "      <td>0.809108</td>\n",
       "      <td>0.220951</td>\n",
       "      <td>0.162568</td>\n",
       "      <td>-0.382237</td>\n",
       "      <td>0.487529</td>\n",
       "    </tr>\n",
       "    <tr>\n",
       "      <th>uphill</th>\n",
       "      <td>0.264588</td>\n",
       "      <td>0.320926</td>\n",
       "      <td>1.000000</td>\n",
       "      <td>0.330333</td>\n",
       "      <td>-0.027443</td>\n",
       "      <td>0.047296</td>\n",
       "      <td>0.854022</td>\n",
       "      <td>0.264588</td>\n",
       "      <td>-0.104035</td>\n",
       "      <td>0.255480</td>\n",
       "    </tr>\n",
       "    <tr>\n",
       "      <th>moving_time</th>\n",
       "      <td>0.852642</td>\n",
       "      <td>0.361493</td>\n",
       "      <td>0.330333</td>\n",
       "      <td>1.000000</td>\n",
       "      <td>-0.090105</td>\n",
       "      <td>0.031861</td>\n",
       "      <td>0.300670</td>\n",
       "      <td>0.852642</td>\n",
       "      <td>-0.349202</td>\n",
       "      <td>0.177689</td>\n",
       "    </tr>\n",
       "    <tr>\n",
       "      <th>max_speed</th>\n",
       "      <td>0.075354</td>\n",
       "      <td>-0.076644</td>\n",
       "      <td>-0.027443</td>\n",
       "      <td>-0.090105</td>\n",
       "      <td>1.000000</td>\n",
       "      <td>-0.082146</td>\n",
       "      <td>-0.014040</td>\n",
       "      <td>0.075354</td>\n",
       "      <td>0.329579</td>\n",
       "      <td>0.008756</td>\n",
       "    </tr>\n",
       "    <tr>\n",
       "      <th>min_elevation</th>\n",
       "      <td>-0.109997</td>\n",
       "      <td>0.809108</td>\n",
       "      <td>0.047296</td>\n",
       "      <td>0.031861</td>\n",
       "      <td>-0.082146</td>\n",
       "      <td>1.000000</td>\n",
       "      <td>0.041160</td>\n",
       "      <td>-0.109997</td>\n",
       "      <td>-0.259089</td>\n",
       "      <td>0.271046</td>\n",
       "    </tr>\n",
       "    <tr>\n",
       "      <th>downhill</th>\n",
       "      <td>0.273401</td>\n",
       "      <td>0.220951</td>\n",
       "      <td>0.854022</td>\n",
       "      <td>0.300670</td>\n",
       "      <td>-0.014040</td>\n",
       "      <td>0.041160</td>\n",
       "      <td>1.000000</td>\n",
       "      <td>0.273401</td>\n",
       "      <td>-0.035203</td>\n",
       "      <td>0.172832</td>\n",
       "    </tr>\n",
       "    <tr>\n",
       "      <th>length_2d</th>\n",
       "      <td>1.000000</td>\n",
       "      <td>0.162568</td>\n",
       "      <td>0.264588</td>\n",
       "      <td>0.852642</td>\n",
       "      <td>0.075354</td>\n",
       "      <td>-0.109997</td>\n",
       "      <td>0.273401</td>\n",
       "      <td>1.000000</td>\n",
       "      <td>0.130308</td>\n",
       "      <td>0.086269</td>\n",
       "    </tr>\n",
       "    <tr>\n",
       "      <th>avg_speed</th>\n",
       "      <td>0.130308</td>\n",
       "      <td>-0.382237</td>\n",
       "      <td>-0.104035</td>\n",
       "      <td>-0.349202</td>\n",
       "      <td>0.329579</td>\n",
       "      <td>-0.259089</td>\n",
       "      <td>-0.035203</td>\n",
       "      <td>0.130308</td>\n",
       "      <td>1.000000</td>\n",
       "      <td>-0.182321</td>\n",
       "    </tr>\n",
       "    <tr>\n",
       "      <th>difficulty_num</th>\n",
       "      <td>0.086269</td>\n",
       "      <td>0.487529</td>\n",
       "      <td>0.255480</td>\n",
       "      <td>0.177689</td>\n",
       "      <td>0.008756</td>\n",
       "      <td>0.271046</td>\n",
       "      <td>0.172832</td>\n",
       "      <td>0.086269</td>\n",
       "      <td>-0.182321</td>\n",
       "      <td>1.000000</td>\n",
       "    </tr>\n",
       "  </tbody>\n",
       "</table>\n",
       "</div>"
      ],
      "text/plain": [
       "                length_3d  max_elevation    uphill  moving_time  max_speed  \\\n",
       "length_3d        1.000000       0.162568  0.264588     0.852642   0.075354   \n",
       "max_elevation    0.162568       1.000000  0.320926     0.361493  -0.076644   \n",
       "uphill           0.264588       0.320926  1.000000     0.330333  -0.027443   \n",
       "moving_time      0.852642       0.361493  0.330333     1.000000  -0.090105   \n",
       "max_speed        0.075354      -0.076644 -0.027443    -0.090105   1.000000   \n",
       "min_elevation   -0.109997       0.809108  0.047296     0.031861  -0.082146   \n",
       "downhill         0.273401       0.220951  0.854022     0.300670  -0.014040   \n",
       "length_2d        1.000000       0.162568  0.264588     0.852642   0.075354   \n",
       "avg_speed        0.130308      -0.382237 -0.104035    -0.349202   0.329579   \n",
       "difficulty_num   0.086269       0.487529  0.255480     0.177689   0.008756   \n",
       "\n",
       "                min_elevation  downhill  length_2d  avg_speed  difficulty_num  \n",
       "length_3d           -0.109997  0.273401   1.000000   0.130308        0.086269  \n",
       "max_elevation        0.809108  0.220951   0.162568  -0.382237        0.487529  \n",
       "uphill               0.047296  0.854022   0.264588  -0.104035        0.255480  \n",
       "moving_time          0.031861  0.300670   0.852642  -0.349202        0.177689  \n",
       "max_speed           -0.082146 -0.014040   0.075354   0.329579        0.008756  \n",
       "min_elevation        1.000000  0.041160  -0.109997  -0.259089        0.271046  \n",
       "downhill             0.041160  1.000000   0.273401  -0.035203        0.172832  \n",
       "length_2d           -0.109997  0.273401   1.000000   0.130308        0.086269  \n",
       "avg_speed           -0.259089 -0.035203   0.130308   1.000000       -0.182321  \n",
       "difficulty_num       0.271046  0.172832   0.086269  -0.182321        1.000000  "
      ]
     },
     "execution_count": 4,
     "metadata": {},
     "output_type": "execute_result"
    }
   ],
   "source": [
    "df.corr()"
   ]
  },
  {
   "attachments": {},
   "cell_type": "markdown",
   "metadata": {},
   "source": [
    "As expected, changes in altitude and the distance have the highest correlations with the moving time. Max elevation also shows low correlation as the terrain in higher altitudes can be more challenging than in lower altitudes. Interestingly the difficulty score doesn't seem to correlate as much with the moving time. This might be due to several reasons: The difficulty score of a whole tour is based on the most difficult section, it is set by users and thus varies due to subjectivity, a difficult track may be exposed and only for experienced hikers, but it is not automatically terrain which slows one down."
   ]
  },
  {
   "attachments": {},
   "cell_type": "markdown",
   "metadata": {},
   "source": [
    "## Recommendation system"
   ]
  },
  {
   "cell_type": "code",
   "execution_count": 5,
   "metadata": {},
   "outputs": [
    {
     "data": {
      "text/html": [
       "<div>\n",
       "<style scoped>\n",
       "    .dataframe tbody tr th:only-of-type {\n",
       "        vertical-align: middle;\n",
       "    }\n",
       "\n",
       "    .dataframe tbody tr th {\n",
       "        vertical-align: top;\n",
       "    }\n",
       "\n",
       "    .dataframe thead th {\n",
       "        text-align: right;\n",
       "    }\n",
       "</style>\n",
       "<table border=\"1\" class=\"dataframe\">\n",
       "  <thead>\n",
       "    <tr style=\"text-align: right;\">\n",
       "      <th></th>\n",
       "      <th>_id</th>\n",
       "      <th>length_3d</th>\n",
       "      <th>user</th>\n",
       "      <th>start_time</th>\n",
       "      <th>max_elevation</th>\n",
       "      <th>bounds</th>\n",
       "      <th>uphill</th>\n",
       "      <th>moving_time</th>\n",
       "      <th>end_time</th>\n",
       "      <th>max_speed</th>\n",
       "      <th>gpx</th>\n",
       "      <th>difficulty</th>\n",
       "      <th>min_elevation</th>\n",
       "      <th>url</th>\n",
       "      <th>downhill</th>\n",
       "      <th>name</th>\n",
       "      <th>length_2d</th>\n",
       "      <th>avg_speed</th>\n",
       "      <th>difficulty_num</th>\n",
       "      <th>country</th>\n",
       "    </tr>\n",
       "  </thead>\n",
       "  <tbody>\n",
       "    <tr>\n",
       "      <th>0</th>\n",
       "      <td>5afb229e8f80884aaad9c6ea</td>\n",
       "      <td>10832.953016</td>\n",
       "      <td>Bergfritz</td>\n",
       "      <td>2018-05-11 07:37:40</td>\n",
       "      <td>1934.47</td>\n",
       "      <td>{'min': {'type': 'Point', 'coordinates': [13.2...</td>\n",
       "      <td>612.880</td>\n",
       "      <td>12155.0</td>\n",
       "      <td>2018-05-11 11:38:23</td>\n",
       "      <td>1.595493</td>\n",
       "      <td>&lt;?xml version=\"1.0\" encoding=\"UTF-8\"?&gt;\\n&lt;gpx x...</td>\n",
       "      <td>T2 - Mountain hike</td>\n",
       "      <td>1322.96</td>\n",
       "      <td>http://www.hikr.org/tour/post131855.html</td>\n",
       "      <td>609.670</td>\n",
       "      <td>Remsteinkopf, 1945 m</td>\n",
       "      <td>10832.953016</td>\n",
       "      <td>0.891234</td>\n",
       "      <td>2</td>\n",
       "      <td>Österreich</td>\n",
       "    </tr>\n",
       "    <tr>\n",
       "      <th>1</th>\n",
       "      <td>5afb229e8f80884aaad9c6eb</td>\n",
       "      <td>12259.376315</td>\n",
       "      <td>Bergfritz</td>\n",
       "      <td>2018-05-12 07:25:08</td>\n",
       "      <td>2186.21</td>\n",
       "      <td>{'min': {'type': 'Point', 'coordinates': [13.1...</td>\n",
       "      <td>614.753</td>\n",
       "      <td>13876.0</td>\n",
       "      <td>2018-05-12 12:08:28</td>\n",
       "      <td>1.394320</td>\n",
       "      <td>&lt;?xml version=\"1.0\" encoding=\"UTF-8\"?&gt;\\n&lt;gpx x...</td>\n",
       "      <td>T3 - Difficult Mountain hike</td>\n",
       "      <td>1266.40</td>\n",
       "      <td>http://www.hikr.org/tour/post131856.html</td>\n",
       "      <td>1193.733</td>\n",
       "      <td>Schuhflicker, 2214 m</td>\n",
       "      <td>12259.376315</td>\n",
       "      <td>0.883495</td>\n",
       "      <td>3</td>\n",
       "      <td>Österreich</td>\n",
       "    </tr>\n",
       "    <tr>\n",
       "      <th>2</th>\n",
       "      <td>5afb229e8f80884aaad9c6ee</td>\n",
       "      <td>19581.273819</td>\n",
       "      <td>rkroebl</td>\n",
       "      <td>2018-05-11 05:44:58</td>\n",
       "      <td>697.57</td>\n",
       "      <td>{'min': {'type': 'Point', 'coordinates': [8.61...</td>\n",
       "      <td>310.662</td>\n",
       "      <td>18197.0</td>\n",
       "      <td>2018-05-11 12:54:25</td>\n",
       "      <td>1.542405</td>\n",
       "      <td>&lt;?xml version=\"1.0\" encoding=\"UTF-8\"?&gt;\\n&lt;gpx x...</td>\n",
       "      <td>T2 - Mountain hike</td>\n",
       "      <td>438.50</td>\n",
       "      <td>http://www.hikr.org/tour/post131845.html</td>\n",
       "      <td>305.372</td>\n",
       "      <td>Waldstätterweg: Buochs - Beckenried und Gersau...</td>\n",
       "      <td>19581.273819</td>\n",
       "      <td>1.076072</td>\n",
       "      <td>2</td>\n",
       "      <td>Switzerland</td>\n",
       "    </tr>\n",
       "    <tr>\n",
       "      <th>3</th>\n",
       "      <td>5afb229e8f80884aaad9c6ef</td>\n",
       "      <td>8927.813277</td>\n",
       "      <td>siso</td>\n",
       "      <td>2018-05-12 04:28:16</td>\n",
       "      <td>2613.96</td>\n",
       "      <td>{'min': {'type': 'Point', 'coordinates': [8.83...</td>\n",
       "      <td>922.870</td>\n",
       "      <td>10905.0</td>\n",
       "      <td>2018-05-12 13:46:34</td>\n",
       "      <td>3.859908</td>\n",
       "      <td>&lt;?xml version=\"1.0\" encoding=\"UTF-8\"?&gt;\\n&lt;gpx x...</td>\n",
       "      <td>T1 - Valley hike</td>\n",
       "      <td>1685.33</td>\n",
       "      <td>http://www.hikr.org/tour/post131818.html</td>\n",
       "      <td>927.190</td>\n",
       "      <td>Pizzo d’Era (2618 m) – Skitour</td>\n",
       "      <td>8927.813277</td>\n",
       "      <td>0.818690</td>\n",
       "      <td>1</td>\n",
       "      <td>Switzerland</td>\n",
       "    </tr>\n",
       "    <tr>\n",
       "      <th>4</th>\n",
       "      <td>5afb229e8f80884aaad9c6f0</td>\n",
       "      <td>8925.378850</td>\n",
       "      <td>ivanbutti</td>\n",
       "      <td>2018-05-12 05:08:25</td>\n",
       "      <td>1666.58</td>\n",
       "      <td>{'min': {'type': 'Point', 'coordinates': [9.44...</td>\n",
       "      <td>1032.625</td>\n",
       "      <td>14660.0</td>\n",
       "      <td>2018-05-12 10:04:34</td>\n",
       "      <td>4.073263</td>\n",
       "      <td>&lt;?xml version=\"1.0\" encoding=\"UTF-8\"?&gt;\\n&lt;gpx x...</td>\n",
       "      <td>T3+ - Difficult Mountain hike</td>\n",
       "      <td>682.73</td>\n",
       "      <td>http://www.hikr.org/tour/post131816.html</td>\n",
       "      <td>1009.965</td>\n",
       "      <td>Mattinata sul Due Mani</td>\n",
       "      <td>8925.378850</td>\n",
       "      <td>0.608825</td>\n",
       "      <td>3</td>\n",
       "      <td>Italia</td>\n",
       "    </tr>\n",
       "  </tbody>\n",
       "</table>\n",
       "</div>"
      ],
      "text/plain": [
       "                        _id     length_3d       user           start_time  \\\n",
       "0  5afb229e8f80884aaad9c6ea  10832.953016  Bergfritz  2018-05-11 07:37:40   \n",
       "1  5afb229e8f80884aaad9c6eb  12259.376315  Bergfritz  2018-05-12 07:25:08   \n",
       "2  5afb229e8f80884aaad9c6ee  19581.273819    rkroebl  2018-05-11 05:44:58   \n",
       "3  5afb229e8f80884aaad9c6ef   8927.813277       siso  2018-05-12 04:28:16   \n",
       "4  5afb229e8f80884aaad9c6f0   8925.378850  ivanbutti  2018-05-12 05:08:25   \n",
       "\n",
       "   max_elevation                                             bounds    uphill  \\\n",
       "0        1934.47  {'min': {'type': 'Point', 'coordinates': [13.2...   612.880   \n",
       "1        2186.21  {'min': {'type': 'Point', 'coordinates': [13.1...   614.753   \n",
       "2         697.57  {'min': {'type': 'Point', 'coordinates': [8.61...   310.662   \n",
       "3        2613.96  {'min': {'type': 'Point', 'coordinates': [8.83...   922.870   \n",
       "4        1666.58  {'min': {'type': 'Point', 'coordinates': [9.44...  1032.625   \n",
       "\n",
       "   moving_time             end_time  max_speed  \\\n",
       "0      12155.0  2018-05-11 11:38:23   1.595493   \n",
       "1      13876.0  2018-05-12 12:08:28   1.394320   \n",
       "2      18197.0  2018-05-11 12:54:25   1.542405   \n",
       "3      10905.0  2018-05-12 13:46:34   3.859908   \n",
       "4      14660.0  2018-05-12 10:04:34   4.073263   \n",
       "\n",
       "                                                 gpx  \\\n",
       "0  <?xml version=\"1.0\" encoding=\"UTF-8\"?>\\n<gpx x...   \n",
       "1  <?xml version=\"1.0\" encoding=\"UTF-8\"?>\\n<gpx x...   \n",
       "2  <?xml version=\"1.0\" encoding=\"UTF-8\"?>\\n<gpx x...   \n",
       "3  <?xml version=\"1.0\" encoding=\"UTF-8\"?>\\n<gpx x...   \n",
       "4  <?xml version=\"1.0\" encoding=\"UTF-8\"?>\\n<gpx x...   \n",
       "\n",
       "                      difficulty  min_elevation  \\\n",
       "0             T2 - Mountain hike        1322.96   \n",
       "1   T3 - Difficult Mountain hike        1266.40   \n",
       "2             T2 - Mountain hike         438.50   \n",
       "3               T1 - Valley hike        1685.33   \n",
       "4  T3+ - Difficult Mountain hike         682.73   \n",
       "\n",
       "                                        url  downhill  \\\n",
       "0  http://www.hikr.org/tour/post131855.html   609.670   \n",
       "1  http://www.hikr.org/tour/post131856.html  1193.733   \n",
       "2  http://www.hikr.org/tour/post131845.html   305.372   \n",
       "3  http://www.hikr.org/tour/post131818.html   927.190   \n",
       "4  http://www.hikr.org/tour/post131816.html  1009.965   \n",
       "\n",
       "                                                name     length_2d  avg_speed  \\\n",
       "0                               Remsteinkopf, 1945 m  10832.953016   0.891234   \n",
       "1                               Schuhflicker, 2214 m  12259.376315   0.883495   \n",
       "2  Waldstätterweg: Buochs - Beckenried und Gersau...  19581.273819   1.076072   \n",
       "3                     Pizzo d’Era (2618 m) – Skitour   8927.813277   0.818690   \n",
       "4                             Mattinata sul Due Mani   8925.378850   0.608825   \n",
       "\n",
       "   difficulty_num      country  \n",
       "0               2   Österreich  \n",
       "1               3   Österreich  \n",
       "2               2  Switzerland  \n",
       "3               1  Switzerland  \n",
       "4               3       Italia  "
      ]
     },
     "execution_count": 5,
     "metadata": {},
     "output_type": "execute_result"
    }
   ],
   "source": [
    "df.head()"
   ]
  },
  {
   "cell_type": "code",
   "execution_count": 6,
   "metadata": {},
   "outputs": [],
   "source": [
    "def find_array(user):\n",
    "    user_array = []\n",
    "    # first number the main of length_3d of all the hikes of the user\n",
    "    user_array.append(df[df['user'] == user]['length_3d'].mean())\n",
    "    # second number the main of max_elevation of all the hikes of the user\n",
    "    user_array.append(df[df['user'] == user]['max_elevation'].mean())\n",
    "    # third number the main of min_elevation of all the hikes of the user\n",
    "    user_array.append(df[df['user'] == user]['min_elevation'].mean())\n",
    "    # fourth number the main of moving_time of all the hikes of the user\n",
    "    user_array.append(df[df['user'] == user]['moving_time'].mean())\n",
    "    # fifth number the main of difficulty_num of all the hikes of the user\n",
    "    user_array.append(df[df['user'] == user]['difficulty_num'].mean())\n",
    "\n",
    "    return user_array"
   ]
  },
  {
   "attachments": {},
   "cell_type": "markdown",
   "metadata": {},
   "source": [
    "Here is a example of the reccomenation system in action. For the user (for the default case 'siso') is calculated the similarity between the user and all other users. The similarity is calculated by the cosine similarity of the user's and the other user's ratings. The ratings are the difficulty scores of the tours the user has completed. The similarity is then used to calculate the weighted average of the difficulty scores of the tours the other users have completed. The weighted average is weighted by the similarity of the other user to the user. The weighted average is then sorted and the top 1 tour is recommended to the user."
   ]
  },
  {
   "cell_type": "code",
   "execution_count": 7,
   "metadata": {},
   "outputs": [
    {
     "name": "stdout",
     "output_type": "stream",
     "text": [
      "The best match user is:  schmidi87\n"
     ]
    }
   ],
   "source": [
    "#input_user = input('Enter your name: ')\n",
    "input_user = 'siso'\n",
    "\n",
    "users = df['user'].unique()\n",
    "\n",
    "input_array = find_array(input_user)\n",
    "\n",
    "distances = []\n",
    "\n",
    "if input_user in users:\n",
    "    for user in users:\n",
    "        # if the user and the imput user have not the same country we don't need to compare them (we suppose that the country is the same for all the hikes of the user)\n",
    "        if user == input_user or df[df['user'] == user]['country'].values[0] != df[df['user'] == input_user]['country'].values[0]:\n",
    "            continue\n",
    "        else:\n",
    "            user_array = find_array(user)\n",
    "            distance_user = 1 - spatial.distance.cosine(user_array, input_array)\n",
    "            obj = [distance_user, user]\n",
    "            distances.append(obj)\n",
    "\n",
    "distances.sort(key=lambda x: x[0])\n",
    "distances.reverse()\n",
    "\n",
    "best_match_user = distances[0][1]\n",
    "print('The best match user is: ', best_match_user)"
   ]
  },
  {
   "cell_type": "code",
   "execution_count": 8,
   "metadata": {},
   "outputs": [],
   "source": [
    "# find the best track from the best match user\n",
    "def find_best_track(input_user, best_match_user, df):\n",
    "    df_input_user = df[df['user'] == input_user]\n",
    "    df_best_match_user = df[df['user'] == best_match_user]\n",
    "    \n",
    "    # filter the colums that I need, just length_3d, max_elevation, min_elevation, moving_time, difficulty_num\n",
    "    df_input_user = df_input_user[['length_3d', 'max_elevation', 'min_elevation', 'moving_time', 'difficulty_num']]\n",
    "    df_best_match_user = df_best_match_user[['length_3d', 'max_elevation', 'min_elevation', 'moving_time', 'difficulty_num']]\n",
    "\n",
    "    # calculate the score for each track based on the distance of the corresponding columns of the input_array\n",
    "    df_best_match_user['score'] = 0\n",
    "    for index, row in df_best_match_user.iterrows():\n",
    "        score = 0\n",
    "        for i in range(len(input_array)):\n",
    "            score += 1 - spatial.distance.cosine([input_array[i]], [row[i]])\n",
    "        df_best_match_user.loc[index, 'score'] = score\n",
    "    \n",
    "    # return the index of the track with the highest score\n",
    "    return df_best_match_user['score'].idxmax()"
   ]
  },
  {
   "cell_type": "code",
   "execution_count": 9,
   "metadata": {},
   "outputs": [
    {
     "name": "stdout",
     "output_type": "stream",
     "text": [
      "The best track for you is:\n"
     ]
    },
    {
     "data": {
      "text/plain": [
       "_id                                        5afb255c8f80884aaad9ec6b\n",
       "length_3d                                              18285.970975\n",
       "user                                                      schmidi87\n",
       "start_time                                      2015-05-30 08:36:00\n",
       "max_elevation                                                   NaN\n",
       "bounds            {'min': {'type': 'Point', 'coordinates': [7.61...\n",
       "uphill                                                          0.0\n",
       "moving_time                                                 20173.0\n",
       "end_time                                        2015-05-30 16:04:46\n",
       "max_speed                                                  1.615608\n",
       "gpx               <?xml version=\"1.0\" encoding=\"UTF-8\"?>\\n<gpx x...\n",
       "difficulty                             T4+ - High-level Alpine hike\n",
       "min_elevation                                                   NaN\n",
       "url                         http://www.hikr.org/tour/post94872.html\n",
       "downhill                                                        0.0\n",
       "name                                      Tschajetuhorn via Larschi\n",
       "length_2d                                              18285.970975\n",
       "avg_speed                                                  0.906458\n",
       "difficulty_num                                                    4\n",
       "country                                                 Switzerland\n",
       "Name: 4176, dtype: object"
      ]
     },
     "execution_count": 9,
     "metadata": {},
     "output_type": "execute_result"
    }
   ],
   "source": [
    "reccomended_path_index = find_best_track(input_user, best_match_user, df)\n",
    "print('The best track for you is:')\n",
    "df.iloc[reccomended_path_index]"
   ]
  },
  {
   "attachments": {},
   "cell_type": "markdown",
   "metadata": {},
   "source": [
    "In this section we will try to build a regression model to find out the realtionship between the difficulty score and the other features. We will use the linear regression model from sklearn."
   ]
  },
  {
   "attachments": {},
   "cell_type": "markdown",
   "metadata": {
    "_uuid": "2d8698dfa928cd224dbf4a08419083b30b9a4e47"
   },
   "source": [
    "## Building the models\n",
    "\n",
    "Let's build a model to predict the moving time based on the features we have. As that is a baseline example, we will use a simple linear regression model. The field on wich we wanto to base our prediction are (`length_3d`, `uphill`, `downhill` and `max_elevation`). We will use the `sklearn` and `Keras` libraries to build the model."
   ]
  },
  {
   "attachments": {},
   "cell_type": "markdown",
   "metadata": {},
   "source": [
    "We will use lasso regression because it is a good baseline model for this type of data. For simple subsets of variables, it provides greater prediction accuracy than other regression models. The lasso procedure encourages simple, sparse models."
   ]
  },
  {
   "cell_type": "code",
   "execution_count": 15,
   "metadata": {},
   "outputs": [
    {
     "name": "stdout",
     "output_type": "stream",
     "text": [
      "Keeping values between 8.778500000000001 and 3625.74 of column min_elevation\n"
     ]
    }
   ],
   "source": [
    "# Do some data cleaning\n",
    "# adding the neccecery columns\n",
    "df['avg_speed'] = df['length_3d']/df['moving_time']\n",
    "df['difficulty_num'] = df['difficulty'].map(lambda x: int(x[1])).astype('int32')\n",
    "# drop outliers\n",
    "df.dropna()\n",
    "df = df[df['avg_speed'] < 2.5]\n",
    "\n",
    "def retain_values(df, column, min_quartile, max_quartile):\n",
    "    q_min, q_max = df[column].quantile([min_quartile, max_quartile])\n",
    "    print(\"Keeping values between {} and {} of column {}\".format(q_min, q_max, column))\n",
    "    return df[(df[column] > q_min) & (df[column] < q_max)]\n",
    "\n",
    "# drop elevation outliers\n",
    "df = retain_values(df, 'min_elevation', 0.01, 1)"
   ]
  },
  {
   "cell_type": "code",
   "execution_count": 16,
   "metadata": {},
   "outputs": [
    {
     "name": "stdout",
     "output_type": "stream",
     "text": [
      "Lasso R2:  0.6851939601255553\n"
     ]
    }
   ],
   "source": [
    "y = df.reset_index()['moving_time']\n",
    "x = df.reset_index()[['downhill', 'uphill', 'length_3d', 'max_elevation']]\n",
    "\n",
    "# split the data into train and test\n",
    "x_train, x_test, y_train, y_test = train_test_split(x, y, test_size=0.20, random_state=42)\n",
    "\n",
    "lasso = Lasso()\n",
    "lasso.fit(x_train, y_train)\n",
    "print ('Lasso R2: ', r2_score(y_test, lasso.predict(x_test)))"
   ]
  },
  {
   "cell_type": "code",
   "execution_count": 17,
   "metadata": {},
   "outputs": [],
   "source": [
    "y_pred_lasso = lasso.predict(x_test)"
   ]
  },
  {
   "attachments": {},
   "cell_type": "markdown",
   "metadata": {},
   "source": [
    "MSE represents the residual error which is nothing but sum of squared difference between actual values and the predicted / estimated values divided by total number of records. R-Squared represents the fraction of variance captured by the regression model."
   ]
  },
  {
   "cell_type": "code",
   "execution_count": 18,
   "metadata": {},
   "outputs": [
    {
     "name": "stdout",
     "output_type": "stream",
     "text": [
      "R2:  0.6851939601255553\n",
      "MSE:  8886157.550095418\n"
     ]
    }
   ],
   "source": [
    "r2 = r2_score(y_test, y_pred_lasso)\n",
    "mse = mean_squared_error(y_test, y_pred_lasso)\n",
    "\n",
    "print('R2: ', r2)\n",
    "print('MSE: ', mse)"
   ]
  },
  {
   "attachments": {},
   "cell_type": "markdown",
   "metadata": {},
   "source": [
    "Let's now calculate the so called residual. Gradient boosting Regression calculates the difference between the current prediction and the known correct target value. This difference is called the residual."
   ]
  },
  {
   "cell_type": "code",
   "execution_count": 19,
   "metadata": {},
   "outputs": [],
   "source": [
    "gbr = GradientBoostingRegressor()\n",
    "gbr.fit(x_train, y_train)\n",
    "y_pred_gbr = gbr.predict(x_test)"
   ]
  },
  {
   "cell_type": "code",
   "execution_count": 20,
   "metadata": {},
   "outputs": [
    {
     "name": "stdout",
     "output_type": "stream",
     "text": [
      "R2:  0.8260670098957209\n",
      "MSE:  4909676.935811803\n"
     ]
    }
   ],
   "source": [
    "r2 = r2_score(y_test, y_pred_gbr)\n",
    "mse = mean_squared_error(y_test, y_pred_gbr)\n",
    "\n",
    "print('R2: ', r2)\n",
    "print('MSE: ', mse)"
   ]
  },
  {
   "attachments": {},
   "cell_type": "markdown",
   "metadata": {},
   "source": [
    "Here we can see that the model is not very accurate. The R2 score is 0.5 which is not very good. We can try to improve the model by using a different model. We will use a neural network to see if we can improve the results."
   ]
  },
  {
   "cell_type": "code",
   "execution_count": 21,
   "metadata": {},
   "outputs": [
    {
     "name": "stderr",
     "output_type": "stream",
     "text": [
      "2023-01-16 18:52:43.748068: I tensorflow/core/platform/cpu_feature_guard.cc:193] This TensorFlow binary is optimized with oneAPI Deep Neural Network Library (oneDNN) to use the following CPU instructions in performance-critical operations:  AVX2 FMA\n",
      "To enable them in other operations, rebuild TensorFlow with the appropriate compiler flags.\n"
     ]
    }
   ],
   "source": [
    "model = Sequential()\n",
    "model.add(Dense(12, input_shape=(4,)))\n",
    "model.add(Dense(5, input_shape=(4,)))\n",
    "model.add(Dense(1))\n",
    "model.compile(optimizer=Adam(0.001), loss='mse')"
   ]
  },
  {
   "cell_type": "code",
   "execution_count": 22,
   "metadata": {},
   "outputs": [
    {
     "name": "stdout",
     "output_type": "stream",
     "text": [
      "Epoch 1/50\n",
      "374/374 [==============================] - 2s 3ms/step - loss: 98079128.0000 - val_loss: 6159116.5000 - lr: 0.0010\n",
      "Epoch 2/50\n",
      "374/374 [==============================] - 0s 1ms/step - loss: 6479949.0000 - val_loss: 6082028.5000 - lr: 0.0010\n",
      "Epoch 3/50\n",
      "374/374 [==============================] - 0s 1ms/step - loss: 6363492.0000 - val_loss: 6070209.5000 - lr: 0.0010\n",
      "Epoch 4/50\n",
      "374/374 [==============================] - 0s 1ms/step - loss: 6304892.0000 - val_loss: 6492134.0000 - lr: 0.0010\n",
      "Epoch 5/50\n",
      "374/374 [==============================] - 1s 1ms/step - loss: 6290329.0000 - val_loss: 6778195.0000 - lr: 0.0010\n"
     ]
    }
   ],
   "source": [
    "hist = model.fit(x_train, y_train, epochs=50, batch_size=10, validation_split=0.15, \n",
    "          callbacks=[\n",
    "            ModelCheckpoint(filepath='./keras-model.h5', save_best_only=True),\n",
    "            EarlyStopping(patience=2),\n",
    "            ReduceLROnPlateau()\n",
    "          ],\n",
    "          verbose=1\n",
    ")"
   ]
  },
  {
   "cell_type": "code",
   "execution_count": 23,
   "metadata": {},
   "outputs": [
    {
     "name": "stdout",
     "output_type": "stream",
     "text": [
      "35/35 [==============================] - 0s 1ms/step\n",
      "R2:  0.7085038611746751\n",
      "MSE:  8228179.535181139\n"
     ]
    }
   ],
   "source": [
    "# load the weights from the already trained model\n",
    "model.load_weights(filepath='./keras-model.h5')\n",
    "y_pred_keras = model.predict(x_test)\n",
    "\n",
    "r2 = r2_score(y_test, y_pred_keras)\n",
    "mse = mean_squared_error(y_test, y_pred_keras)\n",
    "\n",
    "print('R2: ', r2)\n",
    "print('MSE: ', mse)"
   ]
  },
  {
   "attachments": {},
   "cell_type": "markdown",
   "metadata": {},
   "source": [
    "Ensemble results"
   ]
  },
  {
   "attachments": {},
   "cell_type": "markdown",
   "metadata": {},
   "source": [
    "We saw that the model created with the gradient boosting regressor was better than the one created with the lasso regression but still not very accurate. We will now try to improve the results by combining the results of the gbr model and the neural network model. We will use the mean of the two models as the final result."
   ]
  },
  {
   "cell_type": "code",
   "execution_count": 24,
   "metadata": {},
   "outputs": [
    {
     "name": "stdout",
     "output_type": "stream",
     "text": [
      "R2:  0.8129701503133924\n",
      "MSE:  5279367.294060537\n"
     ]
    }
   ],
   "source": [
    "combined = (y_pred_keras[:,0] + y_pred_gbr * 2) / 3.0\n",
    "r2 = r2_score(y_test, combined)\n",
    "mse = mean_squared_error(y_test, combined)\n",
    "\n",
    "print('R2: ', r2)\n",
    "print('MSE: ', mse)"
   ]
  },
  {
   "attachments": {},
   "cell_type": "markdown",
   "metadata": {},
   "source": [
    "In order to have a better view on the results we will insert them in a dataframe. And study the descriptive statistics of the results."
   ]
  },
  {
   "cell_type": "code",
   "execution_count": 25,
   "metadata": {},
   "outputs": [
    {
     "data": {
      "text/html": [
       "<div>\n",
       "<style scoped>\n",
       "    .dataframe tbody tr th:only-of-type {\n",
       "        vertical-align: middle;\n",
       "    }\n",
       "\n",
       "    .dataframe tbody tr th {\n",
       "        vertical-align: top;\n",
       "    }\n",
       "\n",
       "    .dataframe thead th {\n",
       "        text-align: right;\n",
       "    }\n",
       "</style>\n",
       "<table border=\"1\" class=\"dataframe\">\n",
       "  <thead>\n",
       "    <tr style=\"text-align: right;\">\n",
       "      <th></th>\n",
       "      <th>combined</th>\n",
       "      <th>keras</th>\n",
       "      <th>lasso</th>\n",
       "      <th>tree</th>\n",
       "      <th>test</th>\n",
       "      <th>diff_minutes</th>\n",
       "    </tr>\n",
       "  </thead>\n",
       "  <tbody>\n",
       "    <tr>\n",
       "      <th>count</th>\n",
       "      <td>1101.000000</td>\n",
       "      <td>1101.000000</td>\n",
       "      <td>1101.000000</td>\n",
       "      <td>1101.000000</td>\n",
       "      <td>1101.000000</td>\n",
       "      <td>1101.000000</td>\n",
       "    </tr>\n",
       "    <tr>\n",
       "      <th>mean</th>\n",
       "      <td>14316.750231</td>\n",
       "      <td>14333.095430</td>\n",
       "      <td>14395.092828</td>\n",
       "      <td>14308.577632</td>\n",
       "      <td>14262.384196</td>\n",
       "      <td>-0.906101</td>\n",
       "    </tr>\n",
       "    <tr>\n",
       "      <th>std</th>\n",
       "      <td>4648.805957</td>\n",
       "      <td>4536.484980</td>\n",
       "      <td>4805.596916</td>\n",
       "      <td>4820.038045</td>\n",
       "      <td>5315.361340</td>\n",
       "      <td>38.301466</td>\n",
       "    </tr>\n",
       "    <tr>\n",
       "      <th>min</th>\n",
       "      <td>1423.933081</td>\n",
       "      <td>3229.308838</td>\n",
       "      <td>2432.130807</td>\n",
       "      <td>-1252.553748</td>\n",
       "      <td>1850.000000</td>\n",
       "      <td>-201.624038</td>\n",
       "    </tr>\n",
       "    <tr>\n",
       "      <th>25%</th>\n",
       "      <td>10877.890705</td>\n",
       "      <td>10940.536133</td>\n",
       "      <td>10807.151980</td>\n",
       "      <td>10795.237911</td>\n",
       "      <td>10402.000000</td>\n",
       "      <td>-22.433900</td>\n",
       "    </tr>\n",
       "    <tr>\n",
       "      <th>50%</th>\n",
       "      <td>14527.348327</td>\n",
       "      <td>14416.668945</td>\n",
       "      <td>14411.058603</td>\n",
       "      <td>14477.113318</td>\n",
       "      <td>14312.000000</td>\n",
       "      <td>-0.329926</td>\n",
       "    </tr>\n",
       "    <tr>\n",
       "      <th>75%</th>\n",
       "      <td>17566.922851</td>\n",
       "      <td>17586.236328</td>\n",
       "      <td>17741.614495</td>\n",
       "      <td>17766.908691</td>\n",
       "      <td>18080.000000</td>\n",
       "      <td>23.576289</td>\n",
       "    </tr>\n",
       "    <tr>\n",
       "      <th>max</th>\n",
       "      <td>24377.802248</td>\n",
       "      <td>34146.910156</td>\n",
       "      <td>39130.817434</td>\n",
       "      <td>25047.053957</td>\n",
       "      <td>29009.000000</td>\n",
       "      <td>119.645650</td>\n",
       "    </tr>\n",
       "  </tbody>\n",
       "</table>\n",
       "</div>"
      ],
      "text/plain": [
       "           combined         keras         lasso          tree          test  \\\n",
       "count   1101.000000   1101.000000   1101.000000   1101.000000   1101.000000   \n",
       "mean   14316.750231  14333.095430  14395.092828  14308.577632  14262.384196   \n",
       "std     4648.805957   4536.484980   4805.596916   4820.038045   5315.361340   \n",
       "min     1423.933081   3229.308838   2432.130807  -1252.553748   1850.000000   \n",
       "25%    10877.890705  10940.536133  10807.151980  10795.237911  10402.000000   \n",
       "50%    14527.348327  14416.668945  14411.058603  14477.113318  14312.000000   \n",
       "75%    17566.922851  17586.236328  17741.614495  17766.908691  18080.000000   \n",
       "max    24377.802248  34146.910156  39130.817434  25047.053957  29009.000000   \n",
       "\n",
       "       diff_minutes  \n",
       "count   1101.000000  \n",
       "mean      -0.906101  \n",
       "std       38.301466  \n",
       "min     -201.624038  \n",
       "25%      -22.433900  \n",
       "50%       -0.329926  \n",
       "75%       23.576289  \n",
       "max      119.645650  "
      ]
     },
     "execution_count": 25,
     "metadata": {},
     "output_type": "execute_result"
    }
   ],
   "source": [
    "c = pd.DataFrame([combined, y_pred_keras[:,0], y_pred_lasso, y_pred_gbr, y_test]).transpose()\n",
    "c.columns = ['combined', 'keras', 'lasso', 'tree', 'test']\n",
    "c['diff_minutes'] = (c['test'] - c['combined']) / 60\n",
    "c.describe()"
   ]
  },
  {
   "attachments": {},
   "cell_type": "markdown",
   "metadata": {},
   "source": [
    "From the results above we can see that the model are quite accurate. The R2 score is 0.81 for the combined model which is good. We can try to improve the results by using a different model."
   ]
  }
 ],
 "metadata": {
  "kernelspec": {
   "display_name": "Python 3.9.12 64-bit",
   "language": "python",
   "name": "python3"
  },
  "language_info": {
   "codemirror_mode": {
    "name": "ipython",
    "version": 3
   },
   "file_extension": ".py",
   "mimetype": "text/x-python",
   "name": "python",
   "nbconvert_exporter": "python",
   "pygments_lexer": "ipython3",
   "version": "3.10.9 (main, Dec 15 2022, 18:18:30) [Clang 14.0.0 (clang-1400.0.29.202)]"
  },
  "orig_nbformat": 4,
  "vscode": {
   "interpreter": {
    "hash": "aee8b7b246df8f9039afb4144a1f6fd8d2ca17a180786b69acc140d282b71a49"
   }
  }
 },
 "nbformat": 4,
 "nbformat_minor": 2
}
